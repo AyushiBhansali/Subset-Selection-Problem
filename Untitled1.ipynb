{
  "nbformat": 4,
  "nbformat_minor": 0,
  "metadata": {
    "colab": {
      "provenance": [],
      "authorship_tag": "ABX9TyM5bQeEAFPN4bW0b0/UCgw3",
      "include_colab_link": true
    },
    "kernelspec": {
      "name": "python3",
      "display_name": "Python 3"
    },
    "language_info": {
      "name": "python"
    }
  },
  "cells": [
    {
      "cell_type": "markdown",
      "metadata": {
        "id": "view-in-github",
        "colab_type": "text"
      },
      "source": [
        "<a href=\"https://colab.research.google.com/github/AyushiBhansali/Subset-Selection-Problem/blob/main/Untitled1.ipynb\" target=\"_parent\"><img src=\"https://colab.research.google.com/assets/colab-badge.svg\" alt=\"Open In Colab\"/></a>"
      ]
    },
    {
      "cell_type": "code",
      "execution_count": null,
      "metadata": {
        "id": "uI82_i87-DGT"
      },
      "outputs": [],
      "source": []
    },
    {
      "cell_type": "markdown",
      "source": [
        "1.1 Library inclusion"
      ],
      "metadata": {
        "id": "qq18iTGL_vhH"
      }
    },
    {
      "cell_type": "code",
      "source": [
        " import random as r"
      ],
      "metadata": {
        "id": "LGyT9MHL_yvQ"
      },
      "execution_count": null,
      "outputs": []
    },
    {
      "cell_type": "markdown",
      "source": [
        "1.2 Parameter Setting"
      ],
      "metadata": {
        "id": "8eA7GtT2AJhR"
      }
    },
    {
      "cell_type": "code",
      "source": [
        "Set         = set([-12, -3, -6, 7, 2, -2, 6, 3, 9, -7, -5, -8, 1, 11, -9, -4])\n",
        "SetSize     = 5\n",
        "ResultList  = set()    # Store Result List i.e. list of sets whose sum is zero\n",
        "Iterations  = 1000    # Number of Inerations"
      ],
      "metadata": {
        "id": "554FETd9AN5g"
      },
      "execution_count": null,
      "outputs": []
    },
    {
      "cell_type": "markdown",
      "source": [
        "1.3 Start Program"
      ],
      "metadata": {
        "id": "MNuj9F7GAXA-"
      }
    },
    {
      "cell_type": "code",
      "metadata": {
        "id": "veBU-f21im1x",
        "colab": {
          "base_uri": "https://localhost:8080/"
        },
        "outputId": "e292262f-2b2d-4f80-ebc6-285efdada196"
      },
      "source": [
        "# Loop till number of Iterations\n",
        "for i in range(Iterations):\n",
        "    # Select number of elements from Set\n",
        "    Chromosome = r.sample(Set,SetSize)\n",
        "    \n",
        "    # Sum the number of elements in the Chromosome\n",
        "    if sum(Chromosome) == 0:\n",
        "        ResultList.add(tuple(Chromosome))"
      ],
      "execution_count": null,
      "outputs": [
        {
          "output_type": "stream",
          "name": "stderr",
          "text": [
            "<ipython-input-7-03544d6be9f3>:4: DeprecationWarning: Sampling from a set deprecated\n",
            "since Python 3.9 and will be removed in a subsequent version.\n",
            "  Chromosome = r.sample(Set,SetSize)\n"
          ]
        }
      ]
    },
    {
      "cell_type": "markdown",
      "source": [
        "1.4 Print the sets and total count"
      ],
      "metadata": {
        "id": "JxzZos_CBP_3"
      }
    },
    {
      "cell_type": "code",
      "source": [
        "# Print all the sets whose sum is zero\n",
        "for r in ResultList:\n",
        "\tprint (r)\n",
        "\n",
        "# Print total sets\n",
        "print (\"\\nTotal Sets: \", len(ResultList), \"\\n\")"
      ],
      "metadata": {
        "colab": {
          "base_uri": "https://localhost:8080/"
        },
        "id": "gBEVQ4fPBVBm",
        "outputId": "eacc7a57-be5e-4909-f7dd-8e2307cd0135"
      },
      "execution_count": null,
      "outputs": [
        {
          "output_type": "stream",
          "name": "stdout",
          "text": [
            "(6, 1, 3, -2, -8)\n",
            "(-3, 9, 2, -9, 1)\n",
            "(-2, 1, -8, 3, 6)\n",
            "(-6, 7, 9, -3, -7)\n",
            "(3, 9, 6, -6, -12)\n",
            "(-8, -9, 11, -3, 9)\n",
            "(-4, -8, -5, 6, 11)\n",
            "(-4, 3, 7, 6, -12)\n",
            "(7, -2, -9, 1, 3)\n",
            "(11, -7, 7, -12, 1)\n",
            "(-6, 11, -5, -2, 2)\n",
            "(-5, -2, 9, 6, -8)\n",
            "(11, -9, -5, 2, 1)\n",
            "(1, 3, 2, -2, -4)\n",
            "(-8, 7, -7, -3, 11)\n",
            "(3, 7, -3, 2, -9)\n",
            "(-2, 2, -6, -5, 11)\n",
            "(-8, -4, 11, -2, 3)\n",
            "(-3, 3, -6, -5, 11)\n",
            "(-2, -8, -6, 9, 7)\n",
            "(9, 6, 1, -7, -9)\n",
            "(-3, 2, -9, 3, 7)\n",
            "(-3, 3, 1, 6, -7)\n",
            "(-4, 11, -3, -5, 1)\n",
            "(1, 7, -7, 2, -3)\n",
            "(-8, 7, 1, 9, -9)\n",
            "(11, 3, -4, -7, -3)\n",
            "(2, -2, 1, -8, 7)\n",
            "(-7, 11, 7, -8, -3)\n",
            "(-8, 1, -2, 2, 7)\n",
            "(-3, -9, 3, 11, -2)\n",
            "(-6, 1, 3, 9, -7)\n",
            "(3, -2, 9, 2, -12)\n",
            "(-6, 9, -12, 6, 3)\n",
            "\n",
            "Total Sets:  34 \n",
            "\n"
          ]
        }
      ]
    },
    {
      "cell_type": "markdown",
      "source": [
        "1.5 Complete Program"
      ],
      "metadata": {
        "id": "F77rO6G_B7cH"
      }
    },
    {
      "cell_type": "code",
      "source": [
        " import random as r\n",
        "  Set = set([-12,-3.])"
      ],
      "metadata": {
        "id": "JH8IsBQtCB-F"
      },
      "execution_count": null,
      "outputs": []
    },
    {
      "cell_type": "code",
      "metadata": {
        "colab": {
          "base_uri": "https://localhost:8080/"
        },
        "id": "c6KthRB9im14",
        "outputId": "2c65d097-4550-4b1d-df91-696eb50731d2"
      },
      "source": [
        "#-------------------------------------------------------------\n",
        "# Step 1: Library inclusion                             \n",
        "#-------------------------------------------------------------\n",
        "import random as r\n",
        "\n",
        "\n",
        "#-------------------------------------------------------------\n",
        "# Step 2: Parameter Setting\n",
        "#-------------------------------------------------------------\n",
        "Set         = set([-12, -3, -6, 7, 2, -2, 6, 3, 9, -7, -5, -8, 1, 11, -9, -4])\n",
        "SetSize     = 5\n",
        "ResultList  = set()    # Store Result List i.e. list of sets whose sum is zero\n",
        "Iterations  = 1000   # Number of Inerations\n",
        "\n",
        "\n",
        "#-------------------------------------------------------------\n",
        "# Step3: Start Program\n",
        "#-------------------------------------------------------------\n",
        "\n",
        "# Loop till number of Iterations\n",
        "for i in range(Iterations):\n",
        "    # Select number of elements from Set\n",
        "    Chromosome = r.sample(Set,SetSize)\n",
        "\n",
        "    # Sum the number of elements in the Chromosome\n",
        "    if sum(Chromosome) == 0:\n",
        "        ResultList.add(tuple(Chromosome))\n",
        "\n",
        "# Print all the sets whose sum is zero\n",
        "for r in ResultList:\n",
        "\tprint (r)\n",
        "\n",
        "# Print total sets\n",
        "print (\"\\nTotal Sets: \", len(ResultList))\n"
      ],
      "execution_count": null,
      "outputs": [
        {
          "output_type": "stream",
          "name": "stdout",
          "text": [
            "(-7, 1, 6, -2, 2)\n",
            "(3, -8, 9, 1, -5)\n",
            "(-12, 3, 9, -2, 2)\n",
            "(-2, -3, 2, 9, -6)\n",
            "(9, 1, -7, 6, -9)\n",
            "(3, -4, -3, 6, -2)\n",
            "(11, -12, 9, -5, -3)\n",
            "(-8, -3, 7, 1, 3)\n",
            "(-4, -8, 9, 1, 2)\n",
            "(-2, 3, -4, 9, -6)\n",
            "(6, -4, -7, 7, -2)\n",
            "(1, 11, 7, -12, -7)\n",
            "(1, -7, -3, 7, 2)\n",
            "(2, -5, -12, 6, 9)\n",
            "(6, 3, 2, -5, -6)\n",
            "(7, -4, 3, -7, 1)\n",
            "(-7, -4, 7, 3, 1)\n",
            "(9, 2, -5, 1, -7)\n",
            "(1, -9, 7, 9, -8)\n",
            "(-6, 11, 1, 6, -12)\n",
            "(3, 11, -2, -4, -8)\n",
            "(-7, 7, 11, -5, -6)\n",
            "(6, -8, -7, 7, 2)\n",
            "(-8, -2, 3, -4, 11)\n",
            "(-5, -9, 11, 2, 1)\n",
            "(-2, 2, 7, 1, -8)\n",
            "(11, -2, 1, -3, -7)\n",
            "(2, 11, 3, -4, -12)\n",
            "(-7, 6, -12, 11, 2)\n",
            "(-4, 1, -7, 3, 7)\n",
            "(9, -12, -6, 11, -2)\n",
            "(7, -8, -3, 3, 1)\n",
            "(-2, 6, -7, -4, 7)\n",
            "(11, 9, -7, -8, -5)\n",
            "(7, -12, 2, -3, 6)\n",
            "\n",
            "Total Sets:  35\n"
          ]
        },
        {
          "output_type": "stream",
          "name": "stderr",
          "text": [
            "<ipython-input-12-863105f7322f>:23: DeprecationWarning: Sampling from a set deprecated\n",
            "since Python 3.9 and will be removed in a subsequent version.\n",
            "  Chromosome = r.sample(Set,SetSize)\n"
          ]
        }
      ]
    },
    {
      "cell_type": "markdown",
      "source": [
        "1.6 Complete Program with Sorting"
      ],
      "metadata": {
        "id": "mz4ozjI9CjVa"
      }
    },
    {
      "cell_type": "code",
      "source": [],
      "metadata": {
        "id": "t5BNQGVbCnkj"
      },
      "execution_count": null,
      "outputs": []
    },
    {
      "cell_type": "code",
      "metadata": {
        "colab": {
          "base_uri": "https://localhost:8080/"
        },
        "outputId": "35b4356f-93f7-42b8-80c8-7b2ed85539a7",
        "id": "zzblepy0k4LU"
      },
      "source": [
        "#-------------------------------------------------------------\n",
        "# Step 1: Library inclusion                             \n",
        "#-------------------------------------------------------------\n",
        "import random as r\n",
        "\n",
        "\n",
        "#-------------------------------------------------------------\n",
        "# Step 2: Parameter Setting\n",
        "#-------------------------------------------------------------\n",
        "Set         = set([-12, -3, -6, 7, 2, -2, 6, 3, 9, -7, -5, -8, 1, 11, -9, -4])\n",
        "SetSize     = 5\n",
        "ResultList  = set()    # Store Result List i.e. list of sets whose sum is zero\n",
        "Iterations  = 1000   # Number of Inerations\n",
        "\n",
        "\n",
        "#-------------------------------------------------------------\n",
        "# Step3: Start Program\n",
        "#-------------------------------------------------------------\n",
        "\n",
        "# Loop till number of Iterations\n",
        "for i in range(Iterations):\n",
        "    # Select number of elements from Set\n",
        "    Chromosome = r.sample(Set,SetSize)\n",
        "    Chromosome.sort()\n",
        "\n",
        "    # Sum the number of elements in the Chromosome\n",
        "    if sum(Chromosome) == 0:\n",
        "        ResultList.add(tuple(Chromosome))\n",
        "\n",
        "# Print all the sets whose sum is zero\n",
        "for r in ResultList:\n",
        "\tprint (r)\n",
        "\n",
        "# Print total sets\n",
        "print (\"\\nTotal Sets: \", len(ResultList))\n"
      ],
      "execution_count": null,
      "outputs": [
        {
          "output_type": "stream",
          "name": "stdout",
          "text": [
            "(-12, -3, 2, 6, 7)\n",
            "(-9, -3, 2, 3, 7)\n",
            "(-7, -4, -2, 6, 7)\n",
            "(-8, -4, -3, 6, 9)\n",
            "(-7, -4, 2, 3, 6)\n",
            "(-9, -5, 1, 2, 11)\n",
            "(-9, -5, 2, 3, 9)\n",
            "(-7, -6, 1, 3, 9)\n",
            "(-9, -4, -3, 7, 9)\n",
            "(-8, -3, -2, 6, 7)\n",
            "(-7, -5, 2, 3, 7)\n",
            "(-8, -6, -3, 6, 11)\n",
            "(-8, -2, 1, 3, 6)\n",
            "(-4, -3, -2, 3, 6)\n",
            "(-8, -4, 1, 2, 9)\n",
            "(-9, -5, -2, 7, 9)\n",
            "(-8, -4, 2, 3, 7)\n",
            "(-8, -7, -5, 9, 11)\n",
            "(-8, -3, -2, 2, 11)\n",
            "(-8, -3, 2, 3, 6)\n",
            "(-12, -9, 1, 9, 11)\n",
            "\n",
            "Total Sets:  21\n"
          ]
        },
        {
          "output_type": "stream",
          "name": "stderr",
          "text": [
            "<ipython-input-13-91cb451df7bd>:23: DeprecationWarning: Sampling from a set deprecated\n",
            "since Python 3.9 and will be removed in a subsequent version.\n",
            "  Chromosome = r.sample(Set,SetSize)\n"
          ]
        }
      ]
    },
    {
      "cell_type": "markdown",
      "source": [
        "2. PROBLEM STATEMENT:\n",
        "Find all the subsets from a set of numbers whose sum is zero.\n",
        "Constraint: Subset size must be 3 to 6 only\n",
        "Set={-12,-3,-6,7,2,-2,6,3,9,-7,-5,-8,1,11,-9,-4}"
      ],
      "metadata": {
        "id": "Yjyt9Gg-C0Mo"
      }
    },
    {
      "cell_type": "code",
      "source": [
        " "
      ],
      "metadata": {
        "id": "hpl5-SgxDU4w"
      },
      "execution_count": null,
      "outputs": []
    },
    {
      "cell_type": "code",
      "metadata": {
        "colab": {
          "base_uri": "https://localhost:8080/"
        },
        "id": "XmPJbrOXim19",
        "outputId": "c444d83e-5d5d-4d32-bade-539119b4fe32"
      },
      "source": [
        "#-------------------------------------------------------------\n",
        "# Step 1: Library inclusion                             \n",
        "#-------------------------------------------------------------\n",
        "import random as r\n",
        "\n",
        "\n",
        "#-------------------------------------------------------------\n",
        "# Step 2: Parameter Setting\n",
        "#-------------------------------------------------------------\n",
        "Set         = set([-12, -3, -6, 7, 2, -2, 6, 3, 9, -7, -5, -8, 1, 11, -9, -4])\n",
        "SetLB       = 3\n",
        "SetUB       = 6\n",
        "ResultList  = set()    # Store Result List i.e. list of sets whose sum is zero\n",
        "Iterations  = 1000   # Number of Inerations\n",
        "\n",
        "\n",
        "#-------------------------------------------------------------\n",
        "# Step3: Start Program\n",
        "#-------------------------------------------------------------\n",
        "\n",
        "# Loop till number of Iterations\n",
        "for i in range(Iterations):\n",
        "    # Select set size randomly\n",
        "    SetSize = r.randint(SetLB,SetUB)\n",
        "\t\n",
        "    # Select number of elements from Set\n",
        "    Chromosome = r.sample(Set,SetSize)\n",
        "    Chromosome.sort()\n",
        "\n",
        "    # Sum the number of elements in the Chromosome\n",
        "    if sum(Chromosome) == 0:\n",
        "        ResultList.add(tuple(Chromosome))\n",
        "\n",
        "# Print all the sets whose sum is zero\n",
        "for r in ResultList:\n",
        "\tprint (r)\n",
        "\n",
        "# Print total sets\n",
        "print (\"\\nTotal Sets: \", len(ResultList))\n"
      ],
      "execution_count": null,
      "outputs": [
        {
          "output_type": "stream",
          "name": "stdout",
          "text": [
            "(-7, -6, -3, -2, 7, 11)\n",
            "(-5, -3, 2, 6)\n",
            "(-6, -2, 2, 6)\n",
            "(-12, -9, 1, 2, 7, 11)\n",
            "(-4, -2, 1, 2, 3)\n",
            "(-9, -8, -5, 2, 9, 11)\n",
            "(-5, -2, 1, 6)\n",
            "(-6, -4, 1, 9)\n",
            "(-12, -2, 2, 3, 9)\n",
            "(-7, -4, 11)\n",
            "(-9, -7, 7, 9)\n",
            "(-9, -2, 11)\n",
            "(-12, -3, 6, 9)\n",
            "(-4, -2, 6)\n",
            "(-5, -2, 7)\n",
            "(-6, -5, 11)\n",
            "(-12, -4, 3, 6, 7)\n",
            "(-8, -3, 2, 3, 6)\n",
            "(-4, -3, 7)\n",
            "(-8, -3, 11)\n",
            "(-9, -3, -2, 3, 11)\n",
            "(-8, -6, 2, 3, 9)\n",
            "\n",
            "Total Sets:  22\n"
          ]
        },
        {
          "output_type": "stream",
          "name": "stderr",
          "text": [
            "<ipython-input-16-8bdee75e019c>:27: DeprecationWarning: Sampling from a set deprecated\n",
            "since Python 3.9 and will be removed in a subsequent version.\n",
            "  Chromosome = r.sample(Set,SetSize)\n"
          ]
        }
      ]
    }
  ]
}